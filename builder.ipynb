{
 "cells": [
  {
   "cell_type": "markdown",
   "metadata": {
    "pycharm": {
     "name": "#%% md\n"
    }
   },
   "source": [
    "### Run Me First"
   ]
  },
  {
   "cell_type": "code",
   "execution_count": null,
   "metadata": {
    "pycharm": {
     "name": "#%%\n"
    }
   },
   "outputs": [],
   "source": [
    "# Run Me First\n",
    "from plotly.offline import init_notebook_mode, iplot\n",
    "import plotly.graph_objects as go\n",
    "import numpy as np\n",
    "\n",
    "import element_table"
   ]
  },
  {
   "cell_type": "markdown",
   "metadata": {},
   "source": [
    "### MDEF vs Penetration"
   ]
  },
  {
   "cell_type": "code",
   "execution_count": null,
   "metadata": {
    "pycharm": {
     "name": "#%%\n"
    }
   },
   "outputs": [],
   "source": [
    "init_notebook_mode(connected=True)\n",
    "z, y = np.mgrid[0:100, 0:1000]\n",
    "data = [go.Surface(\n",
    "    x=100 * (1 - ((1000 + y * (1 - z/100)) / (1000 + 10 * y * (1 - z/100)) * 100) / 100),\n",
    "    y=y,\n",
    "    z=z,\n",
    ")]\n",
    "layout = go.Layout(\n",
    "    title='Sample',\n",
    "    scene=dict(\n",
    "        xaxis=dict(title='X: % Reduction'),\n",
    "        yaxis=dict(title='Y: MDEF'),\n",
    "        zaxis=dict(title='Z: MDEF Bypass'),\n",
    "    )\n",
    ")\n",
    "fig = go.Figure(\n",
    "    data=data,\n",
    "    layout=layout,\n",
    ")\n",
    "fig.update_traces(\n",
    "    hovertemplate=\"<br>\".join([\n",
    "        \"MDEF: %{y}\",\n",
    "        \"Bypass: %{z}\",\n",
    "        ]) + '<extra>%{x:.2f}%</extra>'\n",
    ")\n",
    "iplot(fig)"
   ]
  },
  {
   "cell_type": "markdown",
   "metadata": {},
   "source": [
    "### DEF vs Penetration"
   ]
  },
  {
   "cell_type": "markdown",
   "metadata": {},
   "source": [
    "Change values below as desired"
   ]
  },
  {
   "cell_type": "code",
   "execution_count": null,
   "metadata": {
    "pycharm": {
     "name": "#%%\n"
    }
   },
   "outputs": [],
   "source": [
    "init_notebook_mode(connected=True)\n",
    "z, y = np.mgrid[0:100, 0:1000]\n",
    "data = [go.Surface(\n",
    "    x=100 * (1 - ((4000 + y * (1 - z/100)) / (4000 + 10 * y * (1 - z/100)) * 100) / 100),\n",
    "    y=y,\n",
    "    z=z,\n",
    ")]\n",
    "layout = go.Layout(\n",
    "    title='Sample',\n",
    "    scene=dict(\n",
    "        xaxis=dict(title='X: % Reduction'),\n",
    "        yaxis=dict(title='Y: DEF'),\n",
    "        zaxis=dict(title='Z: DEF Bypass'),\n",
    "    ),\n",
    ")\n",
    "fig = go.Figure(\n",
    "    data=data,\n",
    "    layout=layout,\n",
    ")\n",
    "fig.update_traces(\n",
    "    hovertemplate=\"<br>\".join([\n",
    "        \"DEF: %{y}\",\n",
    "        \"Bypass: %{z}\",\n",
    "        ]) + '<extra>%{x:.2f}%</extra>',\n",
    ")\n",
    "iplot(fig)"
   ]
  }
 ],
 "metadata": {
  "kernelspec": {
   "display_name": "Python 3",
   "language": "python",
   "name": "python3"
  },
  "language_info": {
   "codemirror_mode": {
    "name": "ipython",
    "version": 3
   },
   "file_extension": ".py",
   "mimetype": "text/x-python",
   "name": "python",
   "nbconvert_exporter": "python",
   "pygments_lexer": "ipython3",
   "version": "3.8.1"
  }
 },
 "nbformat": 4,
 "nbformat_minor": 1
}